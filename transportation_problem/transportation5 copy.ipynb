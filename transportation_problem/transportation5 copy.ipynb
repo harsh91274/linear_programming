{
 "cells": [
  {
   "cell_type": "markdown",
   "metadata": {},
   "source": [
    "# Operations Research Take home assignment"
   ]
  },
  {
   "cell_type": "markdown",
   "metadata": {},
   "source": [
    "I have tried to solve the problem using the pyomo framework and glpk solver. I have not incorporated crossdocking functionality into the solution. "
   ]
  },
  {
   "cell_type": "markdown",
   "metadata": {},
   "source": [
    "### IMPORTING THE ENVIRONMENTS"
   ]
  },
  {
   "cell_type": "code",
   "execution_count": 27,
   "metadata": {},
   "outputs": [],
   "source": [
    "import pandas as pd\n",
    "from pyomo.environ import Set, SolverFactory, ConcreteModel, Constraint, Param, Objective, Var, Binary, minimize\n",
    "from datetime import datetime, timedelta, time\n",
    "import numpy as np"
   ]
  },
  {
   "cell_type": "markdown",
   "metadata": {},
   "source": [
    "### LOADING THE DATA"
   ]
  },
  {
   "cell_type": "code",
   "execution_count": 28,
   "metadata": {},
   "outputs": [],
   "source": [
    "shipments = pd.read_excel(\"01-OR-RS-homework-data-template.xlsx\", sheet_name='df_shipments')\n",
    "df = pd.read_excel(\"01-OR-RS-homework-data-template.xlsx\", sheet_name='df_schedule')\n",
    "capacity = pd.read_excel(\"01-OR-RS-homework-data-template.xlsx\", sheet_name='df_capacity')"
   ]
  },
  {
   "cell_type": "markdown",
   "metadata": {},
   "source": [
    "### Schedule data processing \n",
    "The departure times are a list of tuples but stored as string. My goal is to parse them out as tuples, then explode the dataset to find all the possible linehaul routes, and then to parse the datetime fields. "
   ]
  },
  {
   "cell_type": "code",
   "execution_count": 29,
   "metadata": {},
   "outputs": [],
   "source": [
    "def convert_string_to_list(s):\n",
    "    # Replace colons with quotes to make it a valid Python expression\n",
    "    s = s.replace(\", \", \",\").replace(\"[\",\"\").replace(\"]\",\"\")\n",
    "    return s\n",
    "\n",
    "df['new_departure']=df['scheduled_depart_weekday_time_local'].apply(convert_string_to_list)"
   ]
  },
  {
   "cell_type": "code",
   "execution_count": 30,
   "metadata": {},
   "outputs": [],
   "source": [
    "def parse_new_departure(s):\n",
    "    tuples = s.split('),(')\n",
    "    tuples = [t.replace('(', '').replace(')', '') for t in tuples]\n",
    "    parsed_tuples = [tuple(t.split(',')) for t in tuples]\n",
    "    return parsed_tuples"
   ]
  },
  {
   "cell_type": "code",
   "execution_count": 31,
   "metadata": {},
   "outputs": [
    {
     "data": {
      "text/html": [
       "<div>\n",
       "<style scoped>\n",
       "    .dataframe tbody tr th:only-of-type {\n",
       "        vertical-align: middle;\n",
       "    }\n",
       "\n",
       "    .dataframe tbody tr th {\n",
       "        vertical-align: top;\n",
       "    }\n",
       "\n",
       "    .dataframe thead th {\n",
       "        text-align: right;\n",
       "    }\n",
       "</style>\n",
       "<table border=\"1\" class=\"dataframe\">\n",
       "  <thead>\n",
       "    <tr style=\"text-align: right;\">\n",
       "      <th></th>\n",
       "      <th>carrier_id</th>\n",
       "      <th>origin_region</th>\n",
       "      <th>destination_region</th>\n",
       "      <th>scheduled_depart_weekday_time_local</th>\n",
       "      <th>travel_hrs_with_timezone_offset</th>\n",
       "      <th>truck_type</th>\n",
       "      <th>rate_type</th>\n",
       "      <th>rate_break</th>\n",
       "      <th>new_departure</th>\n",
       "      <th>parsed_departures</th>\n",
       "      <th>day_of_week</th>\n",
       "      <th>departure_time</th>\n",
       "      <th>parsed_departure_time</th>\n",
       "    </tr>\n",
       "  </thead>\n",
       "  <tbody>\n",
       "    <tr>\n",
       "      <th>0</th>\n",
       "      <td>1234</td>\n",
       "      <td>LAX</td>\n",
       "      <td>ORD</td>\n",
       "      <td>[(1, 20:00), (2, 20:00), (3, 20:00), (4, 20:00...</td>\n",
       "      <td>48</td>\n",
       "      <td>1</td>\n",
       "      <td>FTL</td>\n",
       "      <td>5000</td>\n",
       "      <td>(1,20:00),(2,20:00),(3,20:00),(4,20:00),(5,20:00)</td>\n",
       "      <td>(1, 20:00)</td>\n",
       "      <td>1</td>\n",
       "      <td>20:00</td>\n",
       "      <td>20:00:00</td>\n",
       "    </tr>\n",
       "    <tr>\n",
       "      <th>1</th>\n",
       "      <td>1234</td>\n",
       "      <td>LAX</td>\n",
       "      <td>ORD</td>\n",
       "      <td>[(1, 20:00), (2, 20:00), (3, 20:00), (4, 20:00...</td>\n",
       "      <td>48</td>\n",
       "      <td>1</td>\n",
       "      <td>FTL</td>\n",
       "      <td>5000</td>\n",
       "      <td>(1,20:00),(2,20:00),(3,20:00),(4,20:00),(5,20:00)</td>\n",
       "      <td>(2, 20:00)</td>\n",
       "      <td>2</td>\n",
       "      <td>20:00</td>\n",
       "      <td>20:00:00</td>\n",
       "    </tr>\n",
       "    <tr>\n",
       "      <th>2</th>\n",
       "      <td>1234</td>\n",
       "      <td>LAX</td>\n",
       "      <td>ORD</td>\n",
       "      <td>[(1, 20:00), (2, 20:00), (3, 20:00), (4, 20:00...</td>\n",
       "      <td>48</td>\n",
       "      <td>1</td>\n",
       "      <td>FTL</td>\n",
       "      <td>5000</td>\n",
       "      <td>(1,20:00),(2,20:00),(3,20:00),(4,20:00),(5,20:00)</td>\n",
       "      <td>(3, 20:00)</td>\n",
       "      <td>3</td>\n",
       "      <td>20:00</td>\n",
       "      <td>20:00:00</td>\n",
       "    </tr>\n",
       "    <tr>\n",
       "      <th>3</th>\n",
       "      <td>1234</td>\n",
       "      <td>LAX</td>\n",
       "      <td>ORD</td>\n",
       "      <td>[(1, 20:00), (2, 20:00), (3, 20:00), (4, 20:00...</td>\n",
       "      <td>48</td>\n",
       "      <td>1</td>\n",
       "      <td>FTL</td>\n",
       "      <td>5000</td>\n",
       "      <td>(1,20:00),(2,20:00),(3,20:00),(4,20:00),(5,20:00)</td>\n",
       "      <td>(4, 20:00)</td>\n",
       "      <td>4</td>\n",
       "      <td>20:00</td>\n",
       "      <td>20:00:00</td>\n",
       "    </tr>\n",
       "    <tr>\n",
       "      <th>4</th>\n",
       "      <td>1234</td>\n",
       "      <td>LAX</td>\n",
       "      <td>ORD</td>\n",
       "      <td>[(1, 20:00), (2, 20:00), (3, 20:00), (4, 20:00...</td>\n",
       "      <td>48</td>\n",
       "      <td>1</td>\n",
       "      <td>FTL</td>\n",
       "      <td>5000</td>\n",
       "      <td>(1,20:00),(2,20:00),(3,20:00),(4,20:00),(5,20:00)</td>\n",
       "      <td>(5, 20:00)</td>\n",
       "      <td>5</td>\n",
       "      <td>20:00</td>\n",
       "      <td>20:00:00</td>\n",
       "    </tr>\n",
       "  </tbody>\n",
       "</table>\n",
       "</div>"
      ],
      "text/plain": [
       "   carrier_id origin_region destination_region  \\\n",
       "0        1234           LAX                ORD   \n",
       "1        1234           LAX                ORD   \n",
       "2        1234           LAX                ORD   \n",
       "3        1234           LAX                ORD   \n",
       "4        1234           LAX                ORD   \n",
       "\n",
       "                 scheduled_depart_weekday_time_local  \\\n",
       "0  [(1, 20:00), (2, 20:00), (3, 20:00), (4, 20:00...   \n",
       "1  [(1, 20:00), (2, 20:00), (3, 20:00), (4, 20:00...   \n",
       "2  [(1, 20:00), (2, 20:00), (3, 20:00), (4, 20:00...   \n",
       "3  [(1, 20:00), (2, 20:00), (3, 20:00), (4, 20:00...   \n",
       "4  [(1, 20:00), (2, 20:00), (3, 20:00), (4, 20:00...   \n",
       "\n",
       "   travel_hrs_with_timezone_offset  truck_type rate_type rate_break  \\\n",
       "0                               48           1       FTL       5000   \n",
       "1                               48           1       FTL       5000   \n",
       "2                               48           1       FTL       5000   \n",
       "3                               48           1       FTL       5000   \n",
       "4                               48           1       FTL       5000   \n",
       "\n",
       "                                       new_departure parsed_departures  \\\n",
       "0  (1,20:00),(2,20:00),(3,20:00),(4,20:00),(5,20:00)        (1, 20:00)   \n",
       "1  (1,20:00),(2,20:00),(3,20:00),(4,20:00),(5,20:00)        (2, 20:00)   \n",
       "2  (1,20:00),(2,20:00),(3,20:00),(4,20:00),(5,20:00)        (3, 20:00)   \n",
       "3  (1,20:00),(2,20:00),(3,20:00),(4,20:00),(5,20:00)        (4, 20:00)   \n",
       "4  (1,20:00),(2,20:00),(3,20:00),(4,20:00),(5,20:00)        (5, 20:00)   \n",
       "\n",
       "   day_of_week departure_time parsed_departure_time  \n",
       "0            1          20:00              20:00:00  \n",
       "1            2          20:00              20:00:00  \n",
       "2            3          20:00              20:00:00  \n",
       "3            4          20:00              20:00:00  \n",
       "4            5          20:00              20:00:00  "
      ]
     },
     "execution_count": 31,
     "metadata": {},
     "output_type": "execute_result"
    }
   ],
   "source": [
    "# Apply the function to the new_departure column\n",
    "df['parsed_departures'] = df['new_departure'].apply(parse_new_departure)\n",
    "\n",
    "# Explode the parsed_departures column\n",
    "schedule = df.explode('parsed_departures')\n",
    "\n",
    "# Create the day_of_week and departure_time columns\n",
    "schedule[['day_of_week', 'departure_time']] = pd.DataFrame(schedule['parsed_departures'].tolist(), index=schedule.index)\n",
    "\n",
    "# Convert the day_of_week to integer\n",
    "schedule['day_of_week'] = schedule['day_of_week'].astype(int)\n",
    "\n",
    "# Drop the parsed_departures column\n",
    "schedule['parsed_departure_time'] = schedule['departure_time'].apply(lambda x: datetime.strptime(x, \"%H:%M\").time())\n",
    "\n",
    "# Reset index if necessary\n",
    "schedule.reset_index(drop=True, inplace=True)\n",
    "\n",
    "# Display the resulting DataFrame\n",
    "schedule.head(5)"
   ]
  },
  {
   "cell_type": "markdown",
   "metadata": {},
   "source": [
    "### Combining datetime schedule with the date range of scheduled shipments \n",
    "\n",
    "I find the min and max dates in the scheduled shipments, and with some buffer time (-5 days) join them onto the linehaul schedule"
   ]
  },
  {
   "cell_type": "code",
   "execution_count": 32,
   "metadata": {},
   "outputs": [
    {
     "data": {
      "text/html": [
       "<div>\n",
       "<style scoped>\n",
       "    .dataframe tbody tr th:only-of-type {\n",
       "        vertical-align: middle;\n",
       "    }\n",
       "\n",
       "    .dataframe tbody tr th {\n",
       "        vertical-align: top;\n",
       "    }\n",
       "\n",
       "    .dataframe thead th {\n",
       "        text-align: right;\n",
       "    }\n",
       "</style>\n",
       "<table border=\"1\" class=\"dataframe\">\n",
       "  <thead>\n",
       "    <tr style=\"text-align: right;\">\n",
       "      <th></th>\n",
       "      <th>date</th>\n",
       "      <th>date_only</th>\n",
       "      <th>dow</th>\n",
       "    </tr>\n",
       "  </thead>\n",
       "  <tbody>\n",
       "    <tr>\n",
       "      <th>0</th>\n",
       "      <td>2024-05-04 10:00:00</td>\n",
       "      <td>2024-05-04</td>\n",
       "      <td>6</td>\n",
       "    </tr>\n",
       "    <tr>\n",
       "      <th>1</th>\n",
       "      <td>2024-05-05 10:00:00</td>\n",
       "      <td>2024-05-05</td>\n",
       "      <td>7</td>\n",
       "    </tr>\n",
       "    <tr>\n",
       "      <th>2</th>\n",
       "      <td>2024-05-06 10:00:00</td>\n",
       "      <td>2024-05-06</td>\n",
       "      <td>1</td>\n",
       "    </tr>\n",
       "    <tr>\n",
       "      <th>3</th>\n",
       "      <td>2024-05-07 10:00:00</td>\n",
       "      <td>2024-05-07</td>\n",
       "      <td>2</td>\n",
       "    </tr>\n",
       "    <tr>\n",
       "      <th>4</th>\n",
       "      <td>2024-05-08 10:00:00</td>\n",
       "      <td>2024-05-08</td>\n",
       "      <td>3</td>\n",
       "    </tr>\n",
       "    <tr>\n",
       "      <th>5</th>\n",
       "      <td>2024-05-09 10:00:00</td>\n",
       "      <td>2024-05-09</td>\n",
       "      <td>4</td>\n",
       "    </tr>\n",
       "    <tr>\n",
       "      <th>6</th>\n",
       "      <td>2024-05-10 10:00:00</td>\n",
       "      <td>2024-05-10</td>\n",
       "      <td>5</td>\n",
       "    </tr>\n",
       "    <tr>\n",
       "      <th>7</th>\n",
       "      <td>2024-05-11 10:00:00</td>\n",
       "      <td>2024-05-11</td>\n",
       "      <td>6</td>\n",
       "    </tr>\n",
       "    <tr>\n",
       "      <th>8</th>\n",
       "      <td>2024-05-12 10:00:00</td>\n",
       "      <td>2024-05-12</td>\n",
       "      <td>7</td>\n",
       "    </tr>\n",
       "    <tr>\n",
       "      <th>9</th>\n",
       "      <td>2024-05-13 10:00:00</td>\n",
       "      <td>2024-05-13</td>\n",
       "      <td>1</td>\n",
       "    </tr>\n",
       "    <tr>\n",
       "      <th>10</th>\n",
       "      <td>2024-05-14 10:00:00</td>\n",
       "      <td>2024-05-14</td>\n",
       "      <td>2</td>\n",
       "    </tr>\n",
       "    <tr>\n",
       "      <th>11</th>\n",
       "      <td>2024-05-15 10:00:00</td>\n",
       "      <td>2024-05-15</td>\n",
       "      <td>3</td>\n",
       "    </tr>\n",
       "    <tr>\n",
       "      <th>12</th>\n",
       "      <td>2024-05-16 10:00:00</td>\n",
       "      <td>2024-05-16</td>\n",
       "      <td>4</td>\n",
       "    </tr>\n",
       "    <tr>\n",
       "      <th>13</th>\n",
       "      <td>2024-05-17 10:00:00</td>\n",
       "      <td>2024-05-17</td>\n",
       "      <td>5</td>\n",
       "    </tr>\n",
       "  </tbody>\n",
       "</table>\n",
       "</div>"
      ],
      "text/plain": [
       "                  date   date_only  dow\n",
       "0  2024-05-04 10:00:00  2024-05-04    6\n",
       "1  2024-05-05 10:00:00  2024-05-05    7\n",
       "2  2024-05-06 10:00:00  2024-05-06    1\n",
       "3  2024-05-07 10:00:00  2024-05-07    2\n",
       "4  2024-05-08 10:00:00  2024-05-08    3\n",
       "5  2024-05-09 10:00:00  2024-05-09    4\n",
       "6  2024-05-10 10:00:00  2024-05-10    5\n",
       "7  2024-05-11 10:00:00  2024-05-11    6\n",
       "8  2024-05-12 10:00:00  2024-05-12    7\n",
       "9  2024-05-13 10:00:00  2024-05-13    1\n",
       "10 2024-05-14 10:00:00  2024-05-14    2\n",
       "11 2024-05-15 10:00:00  2024-05-15    3\n",
       "12 2024-05-16 10:00:00  2024-05-16    4\n",
       "13 2024-05-17 10:00:00  2024-05-17    5"
      ]
     },
     "execution_count": 32,
     "metadata": {},
     "output_type": "execute_result"
    }
   ],
   "source": [
    "max_dt=max(shipments['due_time_local'])\n",
    "min_dt=min(shipments['ready_time_local'])-timedelta(days=5)\n",
    "m=pd.date_range(min_dt, max_dt, freq='D')\n",
    "df_dates = pd.DataFrame(m, columns=['date'])\n",
    "df_dates['date_only']=df_dates['date'].dt.date\n",
    "df_dates['dow'] = df_dates['date'].dt.dayofweek+1\n",
    "df_dates"
   ]
  },
  {
   "cell_type": "code",
   "execution_count": 33,
   "metadata": {},
   "outputs": [],
   "source": [
    "schedule=schedule.merge(df_dates, how='left', left_on='day_of_week', right_on='dow')\n",
    "schedule['departure_dt_parsed']=pd.to_datetime(schedule['date_only'].astype(str) + ' ' + schedule['departure_time'])"
   ]
  },
  {
   "cell_type": "markdown",
   "metadata": {},
   "source": [
    "### Optimization model\n",
    "\n",
    "I use pyomo to build an optimization model with the following steps:\n",
    "1. define sets - shipments and linehauls \n",
    "2. define the shipment parameters - weights, pallets, ready and due times \n",
    "3. define the linehaul parameters - departure times\n",
    "4. define the objective function - minimize the total cost of the shipments and balance with on-time performance. I use the alpha parameter to balance the two, which can be varied based on business objective. \n",
    "5. define the constraints for pallets and weights \n",
    "6. Since I am only solving for FTL and linehaul, I also apply a constraint that the loads can only be transported using one scheduled FTL linehaul \n",
    "7. I have also implemented a constraint for shipments to arrive at or after their due time"
   ]
  },
  {
   "cell_type": "code",
   "execution_count": 34,
   "metadata": {},
   "outputs": [],
   "source": [
    "# Initialize the model\n",
    "model = ConcreteModel()\n",
    "\n",
    "# Define sets\n",
    "model.SHIPMENTS = Set(initialize=shipments['shipment_id'].tolist())\n",
    "model.LINEHAULS = Set(initialize=schedule.index.tolist())"
   ]
  },
  {
   "cell_type": "code",
   "execution_count": 35,
   "metadata": {},
   "outputs": [],
   "source": [
    "# Parameters\n",
    "shipment_weight = dict(zip(shipments['shipment_id'], shipments['weight_kg']))\n",
    "shipment_pallet = dict(zip(shipments['shipment_id'], shipments['pallet']))\n",
    "shipment_ready_time = dict(zip(shipments['shipment_id'], pd.to_datetime(shipments['ready_time_local'])))\n",
    "shipment_due_time = dict(zip(shipments['shipment_id'], pd.to_datetime(shipments['due_time_local'])))\n",
    "\n",
    "#shipment_ready_time = dict(zip(shipments['shipment_id'], (pd.to_datetime(shipments['ready_time_local']) - pd.Timestamp(\"1970-01-01\")) // pd.Timedelta('1s')))\n",
    "#shipment_due_time = dict(zip(shipments['shipment_id'], (pd.to_datetime(shipments['due_time_local']) - pd.Timestamp(\"1970-01-01\")) // pd.Timedelta('1s')))\n"
   ]
  },
  {
   "cell_type": "code",
   "execution_count": 36,
   "metadata": {},
   "outputs": [
    {
     "data": {
      "text/plain": [
       "{0: Timestamp('2024-05-06 20:00:00'),\n",
       " 1: Timestamp('2024-05-13 20:00:00'),\n",
       " 2: Timestamp('2024-05-07 20:00:00'),\n",
       " 3: Timestamp('2024-05-14 20:00:00'),\n",
       " 4: Timestamp('2024-05-08 20:00:00'),\n",
       " 5: Timestamp('2024-05-15 20:00:00'),\n",
       " 6: Timestamp('2024-05-09 20:00:00'),\n",
       " 7: Timestamp('2024-05-16 20:00:00'),\n",
       " 8: Timestamp('2024-05-10 20:00:00'),\n",
       " 9: Timestamp('2024-05-17 20:00:00'),\n",
       " 10: Timestamp('2024-05-06 20:00:00'),\n",
       " 11: Timestamp('2024-05-13 20:00:00'),\n",
       " 12: Timestamp('2024-05-07 20:00:00'),\n",
       " 13: Timestamp('2024-05-14 20:00:00'),\n",
       " 14: Timestamp('2024-05-08 20:00:00'),\n",
       " 15: Timestamp('2024-05-15 20:00:00'),\n",
       " 16: Timestamp('2024-05-09 20:00:00'),\n",
       " 17: Timestamp('2024-05-16 20:00:00'),\n",
       " 18: Timestamp('2024-05-10 20:00:00'),\n",
       " 19: Timestamp('2024-05-17 20:00:00'),\n",
       " 20: Timestamp('2024-05-06 12:00:00'),\n",
       " 21: Timestamp('2024-05-13 12:00:00'),\n",
       " 22: Timestamp('2024-05-07 12:00:00'),\n",
       " 23: Timestamp('2024-05-14 12:00:00'),\n",
       " 24: Timestamp('2024-05-08 12:00:00'),\n",
       " 25: Timestamp('2024-05-15 12:00:00'),\n",
       " 26: Timestamp('2024-05-09 12:00:00'),\n",
       " 27: Timestamp('2024-05-16 12:00:00'),\n",
       " 28: Timestamp('2024-05-10 12:00:00'),\n",
       " 29: Timestamp('2024-05-17 12:00:00'),\n",
       " 30: Timestamp('2024-05-06 12:00:00'),\n",
       " 31: Timestamp('2024-05-13 12:00:00'),\n",
       " 32: Timestamp('2024-05-07 12:00:00'),\n",
       " 33: Timestamp('2024-05-14 12:00:00'),\n",
       " 34: Timestamp('2024-05-08 12:00:00'),\n",
       " 35: Timestamp('2024-05-15 12:00:00'),\n",
       " 36: Timestamp('2024-05-09 12:00:00'),\n",
       " 37: Timestamp('2024-05-16 12:00:00'),\n",
       " 38: Timestamp('2024-05-10 12:00:00'),\n",
       " 39: Timestamp('2024-05-17 12:00:00'),\n",
       " 40: Timestamp('2024-05-06 14:00:00'),\n",
       " 41: Timestamp('2024-05-13 14:00:00'),\n",
       " 42: Timestamp('2024-05-07 14:00:00'),\n",
       " 43: Timestamp('2024-05-14 14:00:00'),\n",
       " 44: Timestamp('2024-05-08 14:00:00'),\n",
       " 45: Timestamp('2024-05-15 14:00:00'),\n",
       " 46: Timestamp('2024-05-09 14:00:00'),\n",
       " 47: Timestamp('2024-05-16 14:00:00'),\n",
       " 48: Timestamp('2024-05-10 14:00:00'),\n",
       " 49: Timestamp('2024-05-17 14:00:00'),\n",
       " 50: Timestamp('2024-05-06 14:00:00'),\n",
       " 51: Timestamp('2024-05-13 14:00:00'),\n",
       " 52: Timestamp('2024-05-07 14:00:00'),\n",
       " 53: Timestamp('2024-05-14 14:00:00'),\n",
       " 54: Timestamp('2024-05-08 14:00:00'),\n",
       " 55: Timestamp('2024-05-15 14:00:00'),\n",
       " 56: Timestamp('2024-05-09 14:00:00'),\n",
       " 57: Timestamp('2024-05-16 14:00:00'),\n",
       " 58: Timestamp('2024-05-10 14:00:00'),\n",
       " 59: Timestamp('2024-05-17 14:00:00'),\n",
       " 60: Timestamp('2024-05-06 14:00:00'),\n",
       " 61: Timestamp('2024-05-13 14:00:00'),\n",
       " 62: Timestamp('2024-05-07 14:00:00'),\n",
       " 63: Timestamp('2024-05-14 14:00:00'),\n",
       " 64: Timestamp('2024-05-08 14:00:00'),\n",
       " 65: Timestamp('2024-05-15 14:00:00'),\n",
       " 66: Timestamp('2024-05-09 14:00:00'),\n",
       " 67: Timestamp('2024-05-16 14:00:00'),\n",
       " 68: Timestamp('2024-05-10 14:00:00'),\n",
       " 69: Timestamp('2024-05-17 14:00:00'),\n",
       " 70: Timestamp('2024-05-06 14:00:00'),\n",
       " 71: Timestamp('2024-05-13 14:00:00'),\n",
       " 72: Timestamp('2024-05-07 14:00:00'),\n",
       " 73: Timestamp('2024-05-14 14:00:00'),\n",
       " 74: Timestamp('2024-05-08 14:00:00'),\n",
       " 75: Timestamp('2024-05-15 14:00:00'),\n",
       " 76: Timestamp('2024-05-09 14:00:00'),\n",
       " 77: Timestamp('2024-05-16 14:00:00'),\n",
       " 78: Timestamp('2024-05-10 14:00:00'),\n",
       " 79: Timestamp('2024-05-17 14:00:00'),\n",
       " 80: Timestamp('2024-05-06 20:00:00'),\n",
       " 81: Timestamp('2024-05-13 20:00:00'),\n",
       " 82: Timestamp('2024-05-08 20:00:00'),\n",
       " 83: Timestamp('2024-05-15 20:00:00'),\n",
       " 84: Timestamp('2024-05-10 20:00:00'),\n",
       " 85: Timestamp('2024-05-17 20:00:00')}"
      ]
     },
     "execution_count": 36,
     "metadata": {},
     "output_type": "execute_result"
    }
   ],
   "source": [
    "linehaul_departure_times = dict(zip(schedule.index, pd.to_datetime(schedule['departure_dt_parsed'])))\n",
    "linehaul_departure_times"
   ]
  },
  {
   "cell_type": "markdown",
   "metadata": {},
   "source": [
    "### LTL costs\n",
    "I wrote a function to parse the LTL costs in case it is used"
   ]
  },
  {
   "cell_type": "code",
   "execution_count": 37,
   "metadata": {},
   "outputs": [],
   "source": [
    "# Function to parse rate breaks\n",
    "def parse_rate_break(rate_break):\n",
    "    if isinstance(rate_break, str):\n",
    "        rate_break = eval(rate_break)\n",
    "    if isinstance(rate_break, list):\n",
    "        rate_break = rate_break[0]\n",
    "    return rate_break\n",
    "\n",
    "schedule['parsed_rate_break'] = schedule['rate_break'].apply(parse_rate_break)"
   ]
  },
  {
   "cell_type": "markdown",
   "metadata": {},
   "source": [
    "Defining the parameters"
   ]
  },
  {
   "cell_type": "code",
   "execution_count": 38,
   "metadata": {},
   "outputs": [],
   "source": [
    "# Parameters in the model\n",
    "model.weight = Param(model.SHIPMENTS, initialize=shipment_weight)\n",
    "model.pallet = Param(model.SHIPMENTS, initialize=shipment_pallet)\n",
    "\n",
    "model.ready_time_og = dict(zip(shipments['shipment_id'], pd.to_datetime(shipments['ready_time_local'])))\n",
    "model.ready_time = Param(model.SHIPMENTS, initialize={k: (v - pd.Timestamp(\"1970-01-01\")) // pd.Timedelta('1s') for k, v in shipment_ready_time.items()})\n",
    "#model.ready_time = Param(model.SHIPMENTS, initialize=shipment_ready_time)\n",
    "\n",
    "\n",
    "model.due_time_og = Param(model.SHIPMENTS, initialize=shipment_due_time)\n",
    "model.due_time = Param(model.SHIPMENTS, initialize={k: (v - pd.Timestamp(\"1970-01-01\")) // pd.Timedelta('1s') for k, v in shipment_due_time.items()})\n",
    "#model.due_time = Param(model.SHIPMENTS, initialize=shipment_due_time)\n",
    "\n",
    "model.travel_time = Param(model.LINEHAULS, initialize=dict(zip(schedule.index, schedule['travel_hrs_with_timezone_offset'])))\n",
    "\n",
    "model.departure_time_og = Param(model.LINEHAULS, initialize=dict(zip(schedule.index, schedule['departure_dt_parsed'])))\n",
    "#model.departure_time = Param(model.LINEHAULS, initialize={k: (v - pd.Timestamp(\"1970-01-01\")) // pd.Timedelta('1s') for k, v in linehaul_departure_times.items()})\n",
    "model.departure_time = Param(model.LINEHAULS, initialize=dict(zip(schedule.index, (schedule['departure_dt_parsed'] - pd.Timestamp(\"1970-01-01\")) // pd.Timedelta('1s'))))\n"
   ]
  },
  {
   "cell_type": "markdown",
   "metadata": {},
   "source": [
    "Defining the model variables and the trade off parameters"
   ]
  },
  {
   "cell_type": "code",
   "execution_count": 39,
   "metadata": {},
   "outputs": [],
   "source": [
    "# Variables\n",
    "model.x = Var(model.SHIPMENTS, model.LINEHAULS, domain=Binary)"
   ]
  },
  {
   "cell_type": "code",
   "execution_count": 40,
   "metadata": {},
   "outputs": [],
   "source": [
    "# Trade-off parameter (0 <= alpha <= 1)\n",
    "alpha = 0.5  # You can adjust this value to balance between cost and OTP"
   ]
  },
  {
   "cell_type": "markdown",
   "metadata": {},
   "source": [
    "Defining a function to calculate LTL costs to be used in the objective function"
   ]
  },
  {
   "cell_type": "code",
   "execution_count": 41,
   "metadata": {},
   "outputs": [],
   "source": [
    "def calculate_ltl_cost(weight, rate_break):\n",
    "    applicable_rate = max(rate_break.keys())\n",
    "    for threshold, rate in sorted(rate_break.items()):\n",
    "        if weight <= threshold:\n",
    "            applicable_rate = rate\n",
    "            break\n",
    "    return weight * applicable_rate"
   ]
  },
  {
   "cell_type": "markdown",
   "metadata": {},
   "source": [
    "The objective function"
   ]
  },
  {
   "cell_type": "code",
   "execution_count": 42,
   "metadata": {},
   "outputs": [],
   "source": [
    "# Objective function: Minimize weighted sum of cost and OTP\n",
    "def obj_rule(model):\n",
    "    cost_term = sum(model.x[s, l] * (model.weight[s] / capacity.loc[0, 'max_weight_kgs']) * schedule['parsed_rate_break'][l]\n",
    "                    for s in model.SHIPMENTS for l in model.LINEHAULS if schedule.loc[l, 'rate_type'] == 'FTL') + \\\n",
    "                sum(model.x[s, l] * calculate_ltl_cost(model.weight[s], schedule['parsed_rate_break'][l])\n",
    "                    for s in model.SHIPMENTS for l in model.LINEHAULS if schedule.loc[l, 'rate_type'] == 'LTL')\n",
    "    \n",
    "    otp_term = sum(model.x[s, l] * (model.due_time[s] - (model.ready_time[s] + model.travel_time[l] * 3600))\n",
    "                   for s in model.SHIPMENTS for l in model.LINEHAULS if (model.due_time[s] - (model.ready_time[s] + model.travel_time[l] * 3600)) >= 0)\n",
    "    \n",
    "    return (1 - alpha) * cost_term - alpha * otp_term\n",
    "\n",
    "model.obj = Objective(rule=obj_rule, sense=minimize)"
   ]
  },
  {
   "cell_type": "code",
   "execution_count": 43,
   "metadata": {},
   "outputs": [],
   "source": [
    "# Constraints\n",
    "def route_constraint(model, s):\n",
    "    return sum(model.x[s, l] for l in model.LINEHAULS) <=3\n",
    "model.route_con = Constraint(model.SHIPMENTS, rule=route_constraint)"
   ]
  },
  {
   "cell_type": "code",
   "execution_count": 44,
   "metadata": {},
   "outputs": [],
   "source": [
    "def weight_constraint(model, l):\n",
    "    return sum(model.weight[s] * model.x[s, l] for s in model.SHIPMENTS) <= capacity.loc[0, 'max_weight_kgs']\n",
    "\n",
    "model.weight_con = Constraint(model.LINEHAULS, rule=weight_constraint)"
   ]
  },
  {
   "cell_type": "code",
   "execution_count": 45,
   "metadata": {},
   "outputs": [],
   "source": [
    "def pallet_constraint(model, l):\n",
    "    return sum(model.pallet[s] * model.x[s, l] for s in model.SHIPMENTS) <= capacity.loc[0, 'max_pallet_count']\n",
    "\n",
    "model.pallet_con = Constraint(model.LINEHAULS, rule=pallet_constraint)"
   ]
  },
  {
   "cell_type": "code",
   "execution_count": 46,
   "metadata": {},
   "outputs": [],
   "source": [
    "# # Due time constraint\n",
    "# def due_time_constraint(model, s):\n",
    "#     #print( model.due_time[s])\n",
    "#     #print(sum(model.ready_time[s] + model.travel_time[l] * 3600 * model.x[s, l] for l in model.LINEHAULS))\n",
    "#     #print(model.due_time[s] >= sum(model.ready_time[s] + model.travel_time[l] * 3600 * model.x[s, l] for l in model.LINEHAULS))\n",
    "    \n",
    "#     #return model.due_time[s] >= sum(model.ready_time[s] + model.travel_time[l] * 3600 * model.x[s, l] for l in model.LINEHAULS)\n",
    "#     return model.due_time[s] >= sum((model.departure_time[l] + model.travel_time[l] * 3600) * model.x[s, l] for l in model.LINEHAULS)\n",
    "\n",
    "# model.due_time_con = Constraint(model.SHIPMENTS, rule=due_time_constraint)"
   ]
  },
  {
   "cell_type": "code",
   "execution_count": 47,
   "metadata": {},
   "outputs": [],
   "source": [
    "# #Departure time constraint\n",
    "# def departure_time_constraint(model, s, l):\n",
    "#     ready_time = model.ready_time_og[s]\n",
    "#     departure_dt=model.departure_time_og[l]\n",
    "#     print(ready_time)\n",
    "#     print(departure_dt)\n",
    "#     print(departure_dt >= ready_time)\n",
    "#     # Calculate the departure datetime\n",
    "#     #ready_time_dt = pd.to_datetime(ready_time, unit='s')\n",
    "#     #departure_datetime = datetime.combine(ready_time_dt.date(), departure_time) + timedelta(days=(int(departure_day - ready_time_dt.weekday() - 1)) % 7)\n",
    "#     if departure_dt >= ready_time:\n",
    "#         return Constraint.Feasible\n",
    "#     else:\n",
    "#         return Constraint.Infeasible\n",
    "# model.departure_time_con = Constraint(model.SHIPMENTS, model.LINEHAULS, rule=departure_time_constraint)"
   ]
  },
  {
   "cell_type": "code",
   "execution_count": 48,
   "metadata": {},
   "outputs": [],
   "source": [
    "# Departure time constraint\n",
    "# def departure_time_constraint(model, s, l):\n",
    "#     ready_time = model.ready_time[s]\n",
    "#     departure_day = schedule.loc[l, 'day_of_week']\n",
    "#     departure_time = schedule.loc[l, 'parsed_departure_time']\n",
    "    \n",
    "#     # Calculate the departure datetime\n",
    "#     ready_time_dt = pd.to_datetime(ready_time, unit='s')\n",
    "#     departure_datetime = datetime.combine(ready_time_dt.date(), departure_time) + timedelta(days=int((departure_day - ready_time_dt.weekday() - 1)) % 7)\n",
    "    \n",
    "#     if departure_datetime.timestamp() >= ready_time:\n",
    "#         return Constraint.Feasible\n",
    "#     return Constraint.Infeasible\n",
    "\n",
    "# model.departure_time_con = Constraint(model.SHIPMENTS, model.LINEHAULS, rule=departure_time_constraint)\n"
   ]
  },
  {
   "cell_type": "code",
   "execution_count": 49,
   "metadata": {},
   "outputs": [],
   "source": [
    "# Departure time constraint\n",
    "# def departure_time_constraint(model, s, l):\n",
    "#     if model.departure_time_og[l].timestamp() >= model.ready_time[s]:\n",
    "#         return Constraint.Feasible\n",
    "#     else:\n",
    "#         return Constraint.Infeasible\n",
    "# model.departure_time_con = Constraint(model.SHIPMENTS, model.LINEHAULS, rule=departure_time_constraint)\n"
   ]
  },
  {
   "cell_type": "code",
   "execution_count": 50,
   "metadata": {},
   "outputs": [],
   "source": [
    "# test=[]\n",
    "# for i in shipment_ready_time:\n",
    "#     for j in linehaul_departure_times:\n",
    "#         a=shipment_ready_time[i]<linehaul_departure_times[j].timestamp()\n",
    "#         if a==False:\n",
    "#             test.append([a, i, j])\n",
    "\n",
    "# test"
   ]
  },
  {
   "cell_type": "code",
   "execution_count": 51,
   "metadata": {},
   "outputs": [],
   "source": [
    "# # Departure time constraint\n",
    "# def departure_time_constraint(model, s, l):\n",
    "#     #departure_time=schedule['departure_dt_parsed']\n",
    "#     if model.departure_time[l] >= model.ready_time[s]:\n",
    "#         return Constraint.Feasible\n",
    "#     else:\n",
    "#         return Constraint.Infeasible\n",
    "# model.departure_time_con = Constraint(model.SHIPMENTS, model.LINEHAULS, rule=departure_time_constraint)\n"
   ]
  },
  {
   "cell_type": "code",
   "execution_count": 52,
   "metadata": {},
   "outputs": [],
   "source": [
    "# #Departure time constraint\n",
    "# def departure_time_constraint(model, s, l):\n",
    "#    return model.departure_time[l] >= model.ready_time[s]\n",
    "# model.departure_time_con2 = Constraint(model.SHIPMENTS, model.LINEHAULS, rule=departure_time_constraint)"
   ]
  },
  {
   "cell_type": "code",
   "execution_count": 53,
   "metadata": {},
   "outputs": [],
   "source": [
    "# Departure time constraint\n",
    "def departure_time_constraint(model, s, l):\n",
    "    return model.departure_time[l] >= model.ready_time[s] * model.x[s, l]\n",
    "\n",
    "model.departure_time_con4 = Constraint(model.SHIPMENTS, model.LINEHAULS, rule=departure_time_constraint)"
   ]
  },
  {
   "cell_type": "code",
   "execution_count": 54,
   "metadata": {},
   "outputs": [
    {
     "data": {
      "text/plain": [
       "{0: Timestamp('2024-05-06 20:00:00'),\n",
       " 1: Timestamp('2024-05-13 20:00:00'),\n",
       " 2: Timestamp('2024-05-07 20:00:00'),\n",
       " 3: Timestamp('2024-05-14 20:00:00'),\n",
       " 4: Timestamp('2024-05-08 20:00:00'),\n",
       " 5: Timestamp('2024-05-15 20:00:00'),\n",
       " 6: Timestamp('2024-05-09 20:00:00'),\n",
       " 7: Timestamp('2024-05-16 20:00:00'),\n",
       " 8: Timestamp('2024-05-10 20:00:00'),\n",
       " 9: Timestamp('2024-05-17 20:00:00'),\n",
       " 10: Timestamp('2024-05-06 20:00:00'),\n",
       " 11: Timestamp('2024-05-13 20:00:00'),\n",
       " 12: Timestamp('2024-05-07 20:00:00'),\n",
       " 13: Timestamp('2024-05-14 20:00:00'),\n",
       " 14: Timestamp('2024-05-08 20:00:00'),\n",
       " 15: Timestamp('2024-05-15 20:00:00'),\n",
       " 16: Timestamp('2024-05-09 20:00:00'),\n",
       " 17: Timestamp('2024-05-16 20:00:00'),\n",
       " 18: Timestamp('2024-05-10 20:00:00'),\n",
       " 19: Timestamp('2024-05-17 20:00:00'),\n",
       " 20: Timestamp('2024-05-06 12:00:00'),\n",
       " 21: Timestamp('2024-05-13 12:00:00'),\n",
       " 22: Timestamp('2024-05-07 12:00:00'),\n",
       " 23: Timestamp('2024-05-14 12:00:00'),\n",
       " 24: Timestamp('2024-05-08 12:00:00'),\n",
       " 25: Timestamp('2024-05-15 12:00:00'),\n",
       " 26: Timestamp('2024-05-09 12:00:00'),\n",
       " 27: Timestamp('2024-05-16 12:00:00'),\n",
       " 28: Timestamp('2024-05-10 12:00:00'),\n",
       " 29: Timestamp('2024-05-17 12:00:00'),\n",
       " 30: Timestamp('2024-05-06 12:00:00'),\n",
       " 31: Timestamp('2024-05-13 12:00:00'),\n",
       " 32: Timestamp('2024-05-07 12:00:00'),\n",
       " 33: Timestamp('2024-05-14 12:00:00'),\n",
       " 34: Timestamp('2024-05-08 12:00:00'),\n",
       " 35: Timestamp('2024-05-15 12:00:00'),\n",
       " 36: Timestamp('2024-05-09 12:00:00'),\n",
       " 37: Timestamp('2024-05-16 12:00:00'),\n",
       " 38: Timestamp('2024-05-10 12:00:00'),\n",
       " 39: Timestamp('2024-05-17 12:00:00'),\n",
       " 40: Timestamp('2024-05-06 14:00:00'),\n",
       " 41: Timestamp('2024-05-13 14:00:00'),\n",
       " 42: Timestamp('2024-05-07 14:00:00'),\n",
       " 43: Timestamp('2024-05-14 14:00:00'),\n",
       " 44: Timestamp('2024-05-08 14:00:00'),\n",
       " 45: Timestamp('2024-05-15 14:00:00'),\n",
       " 46: Timestamp('2024-05-09 14:00:00'),\n",
       " 47: Timestamp('2024-05-16 14:00:00'),\n",
       " 48: Timestamp('2024-05-10 14:00:00'),\n",
       " 49: Timestamp('2024-05-17 14:00:00'),\n",
       " 50: Timestamp('2024-05-06 14:00:00'),\n",
       " 51: Timestamp('2024-05-13 14:00:00'),\n",
       " 52: Timestamp('2024-05-07 14:00:00'),\n",
       " 53: Timestamp('2024-05-14 14:00:00'),\n",
       " 54: Timestamp('2024-05-08 14:00:00'),\n",
       " 55: Timestamp('2024-05-15 14:00:00'),\n",
       " 56: Timestamp('2024-05-09 14:00:00'),\n",
       " 57: Timestamp('2024-05-16 14:00:00'),\n",
       " 58: Timestamp('2024-05-10 14:00:00'),\n",
       " 59: Timestamp('2024-05-17 14:00:00'),\n",
       " 60: Timestamp('2024-05-06 14:00:00'),\n",
       " 61: Timestamp('2024-05-13 14:00:00'),\n",
       " 62: Timestamp('2024-05-07 14:00:00'),\n",
       " 63: Timestamp('2024-05-14 14:00:00'),\n",
       " 64: Timestamp('2024-05-08 14:00:00'),\n",
       " 65: Timestamp('2024-05-15 14:00:00'),\n",
       " 66: Timestamp('2024-05-09 14:00:00'),\n",
       " 67: Timestamp('2024-05-16 14:00:00'),\n",
       " 68: Timestamp('2024-05-10 14:00:00'),\n",
       " 69: Timestamp('2024-05-17 14:00:00'),\n",
       " 70: Timestamp('2024-05-06 14:00:00'),\n",
       " 71: Timestamp('2024-05-13 14:00:00'),\n",
       " 72: Timestamp('2024-05-07 14:00:00'),\n",
       " 73: Timestamp('2024-05-14 14:00:00'),\n",
       " 74: Timestamp('2024-05-08 14:00:00'),\n",
       " 75: Timestamp('2024-05-15 14:00:00'),\n",
       " 76: Timestamp('2024-05-09 14:00:00'),\n",
       " 77: Timestamp('2024-05-16 14:00:00'),\n",
       " 78: Timestamp('2024-05-10 14:00:00'),\n",
       " 79: Timestamp('2024-05-17 14:00:00'),\n",
       " 80: Timestamp('2024-05-06 20:00:00'),\n",
       " 81: Timestamp('2024-05-13 20:00:00'),\n",
       " 82: Timestamp('2024-05-08 20:00:00'),\n",
       " 83: Timestamp('2024-05-15 20:00:00'),\n",
       " 84: Timestamp('2024-05-10 20:00:00'),\n",
       " 85: Timestamp('2024-05-17 20:00:00')}"
      ]
     },
     "execution_count": 54,
     "metadata": {},
     "output_type": "execute_result"
    }
   ],
   "source": [
    "linehaul_departure_times"
   ]
  },
  {
   "cell_type": "code",
   "execution_count": 55,
   "metadata": {},
   "outputs": [],
   "source": [
    "# Solve the model\n",
    "solver = SolverFactory('glpk')\n",
    "results = solver.solve(model)\n",
    "print(results)"
   ]
  },
  {
   "cell_type": "code",
   "execution_count": null,
   "metadata": {},
   "outputs": [],
   "source": [
    "# Output\n",
    "output = []\n",
    "for s in model.SHIPMENTS:\n",
    "    for l in model.LINEHAULS:\n",
    "          if model.x[s, l].value > 0:\n",
    "            departure_datetime = schedule.loc[l, 'departure_dt_parsed']\n",
    "            drop_datetime = departure_datetime + timedelta(hours=int(schedule.loc[l, 'travel_hrs_with_timezone_offset']))\n",
    "            rate_type = schedule.loc[l, 'rate_type']\n",
    "            \n",
    "            truck_id = f\"{schedule.loc[l, 'origin_region']}-{schedule.loc[l, 'destination_region']}-{rate_type}-{departure_datetime.strftime('%Y%m%d')}-0\"\n",
    "            share_of_cost_based_on_weight = (model.weight[s] / capacity.loc[0, 'max_weight_kgs']) * schedule['parsed_rate_break'][l] if rate_type == 'FTL' else calculate_ltl_cost(model.weight[s], schedule['parsed_rate_break'][l])\n",
    "            \n",
    "            output.append({\n",
    "                'shipment_id': s,\n",
    "                'leg_id': l,\n",
    "                'origin_region': shipments.loc[shipments['shipment_id'] == s, 'origin_region'].values[0],\n",
    "                'destination_region': schedule.loc[l, 'destination_region'],\n",
    "                'depart_time_local': departure_datetime.strftime('%Y-%m-%d %H:%M:%S'),\n",
    "                'drop_time_local': drop_datetime.strftime('%Y-%m-%d %H:%M:%S'),\n",
    "                'carrier_id': schedule.loc[l, 'carrier_id'],\n",
    "                'truck_id': truck_id,\n",
    "                'share_of_cost_based_on_weight': share_of_cost_based_on_weight,\n",
    "                'met_otp': drop_datetime.timestamp() <= model.due_time[s]\n",
    "            })\n",
    "\n",
    "output_df = pd.DataFrame(output)\n"
   ]
  },
  {
   "cell_type": "code",
   "execution_count": null,
   "metadata": {},
   "outputs": [],
   "source": [
    "output_df"
   ]
  },
  {
   "cell_type": "markdown",
   "metadata": {},
   "source": [
    "## Model Improvements include \n",
    "1. Verifying the constraints and the objective function. \n",
    "2. Solving the problem to include crossdocking \n",
    "3. Adding in some approximations based on business knowledge. examples - max # of crossdocks based on distance,  max allowable splitting of shipments "
   ]
  },
  {
   "cell_type": "markdown",
   "metadata": {},
   "source": []
  }
 ],
 "metadata": {
  "kernelspec": {
   "display_name": "Python 3",
   "language": "python",
   "name": "python3"
  },
  "language_info": {
   "codemirror_mode": {
    "name": "ipython",
    "version": 3
   },
   "file_extension": ".py",
   "mimetype": "text/x-python",
   "name": "python",
   "nbconvert_exporter": "python",
   "pygments_lexer": "ipython3",
   "version": "3.10.11"
  }
 },
 "nbformat": 4,
 "nbformat_minor": 2
}
