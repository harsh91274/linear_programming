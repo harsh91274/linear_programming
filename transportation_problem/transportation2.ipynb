{
 "cells": [
  {
   "cell_type": "code",
   "execution_count": 1,
   "metadata": {},
   "outputs": [],
   "source": [
    "import pandas as pd\n",
    "from pyomo.environ import *\n",
    "from datetime import datetime, timedelta, time\n"
   ]
  },
  {
   "cell_type": "code",
   "execution_count": 2,
   "metadata": {},
   "outputs": [],
   "source": [
    "df_shipments = pd.read_excel(\"01-OR-RS-homework-data-template.xlsx\", sheet_name='df_shipments')\n",
    "df_schedule = pd.read_excel(\"01-OR-RS-homework-data-template.xlsx\", sheet_name='df_schedule')\n",
    "df_capacity = pd.read_excel(\"01-OR-RS-homework-data-template.xlsx\", sheet_name='df_capacity')"
   ]
  },
  {
   "cell_type": "code",
   "execution_count": null,
   "metadata": {},
   "outputs": [],
   "source": [
    "model = ConcreteModel()"
   ]
  },
  {
   "cell_type": "code",
   "execution_count": null,
   "metadata": {},
   "outputs": [],
   "source": [
    "# Sets\n",
    "model.Shipments = Set(initialize=df_shipments['shipment_id'].unique())\n",
    "model.Lanes = Set(initialize=df_schedule.index)"
   ]
  },
  {
   "cell_type": "code",
   "execution_count": null,
   "metadata": {},
   "outputs": [],
   "source": [
    "# Define parameters\n",
    "model.Weight = Param(model.Shipments, initialize=df_shipments.set_index('shipment_id')['weight_kg'].to_dict())\n",
    "model.DueTime = Param(model.Shipments, initialize=df_shipments.set_index('shipment_id')['due_time_local'].to_dict())\n",
    "model.OriginRegion = Param(model.Shipments, initialize=df_shipments.set_index('shipment_id')['origin_region'].to_dict())\n",
    "model.DestinationRegion = Param(model.Shipments, initialize=df_shipments.set_index('shipment_id')['destination_region'].to_dict())\n",
    "model.ReadyTime = Param(model.Shipments, initialize=df_shipments.set_index('shipment_id')['ready_time_local'].to_dict())\n",
    "\n",
    "model.CarrierID = Param(model.Lanes, initialize=df_schedule['carrier_id'].to_dict())\n",
    "model.LaneRateType = Param(model.Lanes, initialize=df_schedule['rate_type'].to_dict())\n",
    "model.LaneRate = Param(model.Lanes, initialize=df_schedule['rate_type'].to_dict(), default=0)\n",
    "model.LaneRateBreak = Param(model.Lanes, initialize=df_schedule['rate_break'].to_dict(), default='')\n",
    "\n",
    "model.LaneOrigin = Param(model.Lanes, initialize=df_schedule['origin_region'].to_dict())\n",
    "model.LaneDestination = Param(model.Lanes, initialize=df_schedule['destination_region'].to_dict())\n"
   ]
  },
  {
   "cell_type": "code",
   "execution_count": null,
   "metadata": {},
   "outputs": [],
   "source": [
    "\n",
    "import ast\n",
    "\n",
    "# Function to convert string representation of list of tuples to actual list of tuples\n",
    "def parse_departure_times(dep_times_str):\n",
    "    return ast.literal_eval(dep_times_str)\n",
    "\n",
    "def calculate_arrival_times(schedule):\n",
    "    arrival_times = {}\n",
    "    for lane in schedule.index:\n",
    "        dep_times = parse_departure_times(schedule.at[lane, 'scheduled_depart_weekday_time_local'])\n",
    "        travel_time = schedule.at[lane, 'travel_hrs_with_timezone_offset']\n",
    "        arrival_times[lane] = [(day, (datetime.combine(datetime.today(), datetime.strptime(dep_time, '%H:%M').time()) + timedelta(hours=travel_time)).time()) for day, dep_time in dep_times]\n",
    "    return arrival_times\n",
    "\n",
    "arrival_times = calculate_arrival_times(df_schedule)"
   ]
  },
  {
   "cell_type": "code",
   "execution_count": null,
   "metadata": {},
   "outputs": [],
   "source": [
    "# Objective: Minimize cost\n",
    "def cost_rule(model):\n",
    "    cost = 0\n",
    "    for s in model.Shipments:\n",
    "        for l in model.Lanes:\n",
    "            if lane_rate_type[l] == 'FTL':\n",
    "                cost += model.x[s, l] * lane_rate_break[l] * (shipment_weight[s] / df_capacity.loc[0, 'max_weight_kgs'])\n",
    "            else:\n",
    "                rate_break = eval(lane_rate_break[l])\n",
    "                cost_per_kg = next(rate for weight, rate in sorted(rate_break.items()) if shipment_weight[s] >= weight)\n",
    "                cost += model.x[s, l] * shipment_weight[s] * cost_per_kg\n",
    "    return cost\n",
    "model.cost = Objective(rule=cost_rule, sense=minimize)"
   ]
  }
 ],
 "metadata": {
  "kernelspec": {
   "display_name": "Python 3",
   "language": "python",
   "name": "python3"
  },
  "language_info": {
   "codemirror_mode": {
    "name": "ipython",
    "version": 3
   },
   "file_extension": ".py",
   "mimetype": "text/x-python",
   "name": "python",
   "nbconvert_exporter": "python",
   "pygments_lexer": "ipython3",
   "version": "3.10.11"
  }
 },
 "nbformat": 4,
 "nbformat_minor": 2
}
