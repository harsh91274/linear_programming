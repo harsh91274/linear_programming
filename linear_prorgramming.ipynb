{
  "cells": [
    {
      "cell_type": "code",
      "execution_count": 1,
      "metadata": {
        "id": "_WxN0CldGk5c"
      },
      "outputs": [],
      "source": [
        "import pyomo.environ as pyo\n",
        "from pyomo.opt import SolverFactory"
      ]
    },
    {
      "cell_type": "code",
      "execution_count": 2,
      "metadata": {
        "id": "ud0kEe_sHDgp"
      },
      "outputs": [],
      "source": [
        "#defining the model\n",
        "model=pyo.ConcreteModel()\n",
        "\n",
        "#define the decision variables\n",
        "model.x1=pyo.Var(within=pyo.NonNegativeReals)\n",
        "x1=model.x1\n",
        "model.x2=pyo.Var(within=pyo.NonNegativeReals)\n",
        "x2=model.x2\n",
        "\n",
        "#define the objective function\n",
        "model.Obj= pyo.Objective(expr= 4*x1+3*x2, sense=pyo.maximize)\n",
        "\n",
        "#defining the constraints\n",
        "model.const1=pyo.Constraint(expr=x1+x2<=40)\n",
        "model.const2=pyo.Constraint(expr=2*x1+x2<=60)"
      ]
    },
    {
      "cell_type": "code",
      "execution_count": 3,
      "metadata": {
        "id": "T7cb9u8gKBlW"
      },
      "outputs": [],
      "source": [
        "#solve using glpk\n",
        "\n",
        "optm=SolverFactory('glpk')\n",
        "results=optm.solve(model)"
      ]
    },
    {
      "cell_type": "code",
      "execution_count": 4,
      "metadata": {
        "colab": {
          "base_uri": "https://localhost:8080/"
        },
        "id": "FvPa2ETwLM5t",
        "outputId": "616cb7ea-d27a-4d6e-f585-32044693ca47"
      },
      "outputs": [
        {
          "name": "stdout",
          "output_type": "stream",
          "text": [
            "\n",
            "Problem: \n",
            "- Name: unknown\n",
            "  Lower bound: 140.0\n",
            "  Upper bound: 140.0\n",
            "  Number of objectives: 1\n",
            "  Number of constraints: 3\n",
            "  Number of variables: 3\n",
            "  Number of nonzeros: 5\n",
            "  Sense: maximize\n",
            "Solver: \n",
            "- Status: ok\n",
            "  Termination condition: optimal\n",
            "  Statistics: \n",
            "    Branch and bound: \n",
            "      Number of bounded subproblems: 0\n",
            "      Number of created subproblems: 0\n",
            "  Error rc: 0\n",
            "  Time: 0.04250907897949219\n",
            "Solution: \n",
            "- number of solutions: 0\n",
            "  number of solutions displayed: 0\n",
            "\n"
          ]
        }
      ],
      "source": [
        "print(results)"
      ]
    },
    {
      "cell_type": "code",
      "execution_count": 5,
      "metadata": {
        "colab": {
          "base_uri": "https://localhost:8080/"
        },
        "id": "fc76gT_iLPQj",
        "outputId": "0a207be7-8263-41cf-9f2d-9b59da05cd27"
      },
      "outputs": [
        {
          "name": "stdout",
          "output_type": "stream",
          "text": [
            "objective function =  140.0\n",
            "x1 =  20.0\n",
            "x2 =  20.0\n"
          ]
        }
      ],
      "source": [
        "print('objective function = ', model.Obj())\n",
        "print('x1 = ', model.x1())\n",
        "print('x2 = ', model.x2())"
      ]
    }
  ],
  "metadata": {
    "colab": {
      "provenance": [],
      "toc_visible": true
    },
    "kernelspec": {
      "display_name": "Python 3",
      "name": "python3"
    },
    "language_info": {
      "codemirror_mode": {
        "name": "ipython",
        "version": 3
      },
      "file_extension": ".py",
      "mimetype": "text/x-python",
      "name": "python",
      "nbconvert_exporter": "python",
      "pygments_lexer": "ipython3",
      "version": "3.10.11"
    }
  },
  "nbformat": 4,
  "nbformat_minor": 0
}
